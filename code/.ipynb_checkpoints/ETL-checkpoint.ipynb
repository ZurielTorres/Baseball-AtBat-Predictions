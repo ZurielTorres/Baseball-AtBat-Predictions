{
 "cells": [
  {
   "cell_type": "code",
   "execution_count": 5,
   "id": "de27c079-f468-4388-9fc9-056b5f65564e",
   "metadata": {},
   "outputs": [],
   "source": [
    "import pybaseball\n",
    "import pandas as pd"
   ]
  },
  {
   "cell_type": "code",
   "execution_count": 6,
   "id": "d26b218f-9655-4811-bb78-3b852c548a2f",
   "metadata": {},
   "outputs": [],
   "source": [
    "pd.set_option('display.max_columns', 500)"
   ]
  },
  {
   "cell_type": "markdown",
   "id": "68c0a487-16f7-4808-9e0c-99e8fbbd6bd3",
   "metadata": {},
   "source": [
    "### Obtaining statcast data"
   ]
  },
  {
   "cell_type": "code",
   "execution_count": 16,
   "id": "7844b545-17ce-456f-92af-409f3470700b",
   "metadata": {},
   "outputs": [
    {
     "name": "stdout",
     "output_type": "stream",
     "text": [
      "This is a large query, it may take a moment to complete\n"
     ]
    },
    {
     "name": "stderr",
     "output_type": "stream",
     "text": [
      "100%|███████████████████████████████████████████████| 61/61 [00:05<00:00, 11.59it/s]\n"
     ]
    }
   ],
   "source": [
    "# Querying by each year\n",
    "data_2017 = pybaseball.statcast(start_dt = '2017-01-01', end_dt = '2017-12-31')\n",
    "data_2018 = pybaseball.statcast(start_dt = '2018-01-01', end_dt = '2018-12-31')\n",
    "data_2019 = pybaseball.statcast(start_dt = '2019-01-01', end_dt = '2019-12-31')\n",
    "data_2020 = pybaseball.statcast(start_dt = '2020-01-01', end_dt = '2020-12-31')\n",
    "data_2021 = pybaseball.statcast(start_dt = '2021-01-01', end_dt = '2021-12-31')\n",
    "data_2022_1 = pybaseball.statcast(start_dt = '2022-01-01', end_dt = '2022-06-30')\n",
    "data_2022_2 = pybaseball.statcast(start_dt = '2022-07-01', end_dt = '2022-08-30')\n",
    "\n",
    "# Joining 2022 data\n",
    "data_2022 = pd.concat([data_2022_1,data_2022_2])"
   ]
  },
  {
   "cell_type": "code",
   "execution_count": null,
   "id": "e6b5d980-d206-4113-b134-0999dbd5671b",
   "metadata": {},
   "outputs": [],
   "source": [
    "# Joining all data\n",
    "statcast_data = pd.concat([data_2017,data_2018,data_2019,data_2020,data_2021,data_2022])"
   ]
  },
  {
   "cell_type": "code",
   "execution_count": null,
   "id": "bf5d0cd5-d50a-4ce2-846a-83c0fee1b646",
   "metadata": {},
   "outputs": [],
   "source": [
    "# Saving data as parquet\n",
    "statcast_data.to_parquet('../data/statcast_plays')"
   ]
  }
 ],
 "metadata": {
  "kernelspec": {
   "display_name": "Python 3 (ipykernel)",
   "language": "python",
   "name": "python3"
  },
  "language_info": {
   "codemirror_mode": {
    "name": "ipython",
    "version": 3
   },
   "file_extension": ".py",
   "mimetype": "text/x-python",
   "name": "python",
   "nbconvert_exporter": "python",
   "pygments_lexer": "ipython3",
   "version": "3.9.7"
  }
 },
 "nbformat": 4,
 "nbformat_minor": 5
}
